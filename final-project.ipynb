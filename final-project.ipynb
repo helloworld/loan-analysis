{
 "cells": [
  {
   "cell_type": "markdown",
   "metadata": {},
   "source": [
    "# Predicting Loan Status \n",
    "------\n",
    "\n",
    "### CMSC 320 Final Project \n",
    "\n",
    "Sashank Thupukari, Ravi Kemburu, Rachit Agarwal\n",
    "\n",
    "------"
   ]
  },
  {
   "cell_type": "markdown",
   "metadata": {},
   "source": [
    "# 1) Introduction \n",
    "-----\n",
    "\n",
    "The US economy is driven by lending and spending – trillions of dollars are borrowed, paid interest upon, and paid back. \n",
    "\n",
    "Over the last decade, there has been considerable growth in the Alternative Finance industry. According to [Wikipedia entry on Alternative Finance](https://en.wikipedia.org/wiki/Alternative_finance): \n",
    "\n",
    "> Alternative finance refers to financial channels and instruments that have emerged outside of the traditional finance system such as regulated banks and capital markets. Examples of alternative financing activities through 'online marketplaces' are reward-based crowdfunding, equity crowdfunding, peer-to-peer consumer and business lending, invoice trading third party payment platforms.\n",
    "\n",
    "In 2017, there has been a massive shift in the Alternative Finance industry towards marketplace, or peer-to-peer (P2P) lending. According to [Business Insider](http://www.businessinsider.com/major-shifts-in-us-alt-lending-market-2017-6): \n",
    "\n",
    "> Marketplace, or peer-to-peer (P2P), consumer lending still holds the most market share (61%) with origination volumes hitting \\$21.1 billion in 2016, up 17% from $18 billion in 2015.\n",
    "\n",
    "<img src=\"peer-to-peer.png\" style=\"width: 50%;\"/>\n",
    "\n",
    "<br>\n",
    "\n",
    "In this analysis, we explore historical data from an [Kaggle data set](https://www.kaggle.com/zaurbegiev/my-dataset) representing the data of an unknown peer-to-peer loan originator. One of the mission critical aspects to a peer-to-peer loan business is to determine the likelihood of a customer returning the money they lend to him/her. If the company is accurately able to discriminate trustworthy lenders, they will recieve their money + interest back, and turn a profit. If they incorrectly lend money to untrustorthy lenders, they will recieve neither their money or the required interest, and proceed to lose _a lot_ of money. \n",
    "\n",
    "Data Science is a powerful field, having uses from protecting against malware to stopping diseases. However as a relatively new field, many people are not aware of the extent of what data science can achieve. The powerful finance industry as one example suffers from a plethora of problems, from fraud to money laundering to simply managing money, problems that can be solved with the use of data science. This tutorial utilizes some of the most powerful data science techniques to demonstrate the power it has. Our hope is that the finance industry will recognize and help drive the widespread adoption and usage of data science to solve real world problems across society.\n",
    "\n",
    "We will go through: \n",
    "\n",
    "- Curating the data\n",
    "- Parsing and tidying the data\n",
    "- Analyze various trends and correlations in the data\n",
    "- Attempt to train a model that can predict whether a lender will default on their loan."
   ]
  },
  {
   "cell_type": "markdown",
   "metadata": {},
   "source": [
    "### 1.1 Setup and Installation\n",
    "\n",
    "\n",
    "**Libraries**:\n",
    "\n",
    "We will be working with the following libraries. Below are the library names, installation command, and introductory tutorials if you are not familiar with any of the libaries.\n",
    "\n",
    "**Libary**|** Tutorial**|** Installation**\n",
    ":-----|:-----|:-----\n",
    "Pandas| https://pandas.pydata.org/pandas-docs/stable/tutorials.html| `pip install pandas`\n",
    "NumPy| https://docs.scipy.org/doc/numpy-dev/user/quickstart.html| `pip install numpy`\n",
    "MatPlotLib| https://matplotlib.org/| `pip install matplotlib`\n",
    "Plotly| https://plot.ly/| `pip install plotly`\n",
    "Scikit-Learn| http://scikit-learn.org/stable/| `pip install scikit-learn`\n",
    "\n",
    "**Import**:"
   ]
  },
  {
   "cell_type": "code",
   "execution_count": 1,
   "metadata": {
    "collapsed": true
   },
   "outputs": [],
   "source": [
    "import pandas as pd\n",
    "import numpy as np\n",
    "import matplotlib.pyplot as plt\n",
    "import sklearn\n",
    "import warnings\n",
    "from sklearn import model_selection\n",
    "from sklearn.metrics import classification_report\n",
    "from sklearn.metrics import confusion_matrix\n",
    "from sklearn.metrics import accuracy_score\n",
    "from sklearn.linear_model import LogisticRegression\n",
    "from sklearn.tree import DecisionTreeClassifier\n",
    "from sklearn.neighbors import KNeighborsClassifier\n",
    "from sklearn.discriminant_analysis import LinearDiscriminantAnalysis\n",
    "from sklearn.naive_bayes import GaussianNB\n",
    "from sklearn.svm import SVC\n",
    "pd.options.display.max_rows = 999\n",
    "warnings.filterwarnings('ignore')"
   ]
  },
  {
   "cell_type": "markdown",
   "metadata": {},
   "source": [
    "# 2) Data Curation\n",
    "----"
   ]
  },
  {
   "cell_type": "markdown",
   "metadata": {},
   "source": [
    "We can download the dataset directly from Kaggle here: [link](https://www.kaggle.com/zaurbegiev/my-dataset)\n",
    "\n",
    "There are two files, `credit_train.csv` and `credit_test.csv`. For the exploratory analysis, we will be working with the training set. We will use the test set to validate our machine learning model later in this analysis. \n",
    "\n",
    "### 2.1 Loading Dataset\n",
    "\n",
    "We create first load the csv into a Pandas dataframe, and preview the dataframe:"
   ]
  },
  {
   "cell_type": "code",
   "execution_count": 2,
   "metadata": {},
   "outputs": [
    {
     "data": {
      "text/html": [
       "<div>\n",
       "<style scoped>\n",
       "    .dataframe tbody tr th:only-of-type {\n",
       "        vertical-align: middle;\n",
       "    }\n",
       "\n",
       "    .dataframe tbody tr th {\n",
       "        vertical-align: top;\n",
       "    }\n",
       "\n",
       "    .dataframe thead th {\n",
       "        text-align: right;\n",
       "    }\n",
       "</style>\n",
       "<table border=\"1\" class=\"dataframe\">\n",
       "  <thead>\n",
       "    <tr style=\"text-align: right;\">\n",
       "      <th></th>\n",
       "      <th>Loan ID</th>\n",
       "      <th>Customer ID</th>\n",
       "      <th>Loan Status</th>\n",
       "      <th>Current Loan Amount</th>\n",
       "      <th>Term</th>\n",
       "      <th>Credit Score Raw</th>\n",
       "      <th>Credit Score</th>\n",
       "      <th>Annual Income</th>\n",
       "      <th>Years in current job</th>\n",
       "      <th>Home Ownership</th>\n",
       "      <th>Purpose</th>\n",
       "      <th>Monthly Debt</th>\n",
       "      <th>Years of Credit History</th>\n",
       "      <th>Months since last delinquent</th>\n",
       "      <th>Number of Open Accounts</th>\n",
       "      <th>Number of Credit Problems</th>\n",
       "      <th>Current Credit Balance</th>\n",
       "      <th>Maximum Open Credit</th>\n",
       "      <th>Bankruptcies</th>\n",
       "      <th>Tax Liens</th>\n",
       "    </tr>\n",
       "  </thead>\n",
       "  <tbody>\n",
       "    <tr>\n",
       "      <th>0</th>\n",
       "      <td>0000757f-a121-41ed-b17b-162e76647c1f</td>\n",
       "      <td>dde79588-12f0-4811-bab0-e2b07f633fcd</td>\n",
       "      <td>Fully Paid</td>\n",
       "      <td>258082</td>\n",
       "      <td>Short Term</td>\n",
       "      <td>746.0</td>\n",
       "      <td>746.0</td>\n",
       "      <td>950475.0</td>\n",
       "      <td>4 years</td>\n",
       "      <td>Rent</td>\n",
       "      <td>Debt Consolidation</td>\n",
       "      <td>6748.42</td>\n",
       "      <td>11.5</td>\n",
       "      <td>NaN</td>\n",
       "      <td>12</td>\n",
       "      <td>0</td>\n",
       "      <td>330429</td>\n",
       "      <td>815782.0</td>\n",
       "      <td>0.0</td>\n",
       "      <td>0.0</td>\n",
       "    </tr>\n",
       "    <tr>\n",
       "      <th>1</th>\n",
       "      <td>0000afa6-8902-4f8f-b870-25a8fdad0aeb</td>\n",
       "      <td>e49c1a82-a0f7-45e8-9f46-2f75c43f9fbc</td>\n",
       "      <td>Charged Off</td>\n",
       "      <td>541486</td>\n",
       "      <td>Long Term</td>\n",
       "      <td>NaN</td>\n",
       "      <td>NaN</td>\n",
       "      <td>NaN</td>\n",
       "      <td>6 years</td>\n",
       "      <td>Rent</td>\n",
       "      <td>Business Loan</td>\n",
       "      <td>10303.51</td>\n",
       "      <td>17.6</td>\n",
       "      <td>73.0</td>\n",
       "      <td>7</td>\n",
       "      <td>0</td>\n",
       "      <td>268337</td>\n",
       "      <td>372988.0</td>\n",
       "      <td>0.0</td>\n",
       "      <td>0.0</td>\n",
       "    </tr>\n",
       "    <tr>\n",
       "      <th>2</th>\n",
       "      <td>00020fb0-6b8a-4b3a-8c72-9c4c847e8cb6</td>\n",
       "      <td>c9decd06-16f7-44c3-b007-8776f2a9233d</td>\n",
       "      <td>Fully Paid</td>\n",
       "      <td>99999999</td>\n",
       "      <td>Short Term</td>\n",
       "      <td>742.0</td>\n",
       "      <td>742.0</td>\n",
       "      <td>1230440.0</td>\n",
       "      <td>3 years</td>\n",
       "      <td>Home Mortgage</td>\n",
       "      <td>Debt Consolidation</td>\n",
       "      <td>11073.96</td>\n",
       "      <td>26.8</td>\n",
       "      <td>NaN</td>\n",
       "      <td>11</td>\n",
       "      <td>0</td>\n",
       "      <td>168720</td>\n",
       "      <td>499642.0</td>\n",
       "      <td>0.0</td>\n",
       "      <td>0.0</td>\n",
       "    </tr>\n",
       "    <tr>\n",
       "      <th>3</th>\n",
       "      <td>00045ecd-59e9-4752-ba0d-679ff71692b3</td>\n",
       "      <td>b7bce684-b4b0-4b29-af66-eae316bce573</td>\n",
       "      <td>Fully Paid</td>\n",
       "      <td>260986</td>\n",
       "      <td>Short Term</td>\n",
       "      <td>734.0</td>\n",
       "      <td>734.0</td>\n",
       "      <td>1314838.0</td>\n",
       "      <td>10+ years</td>\n",
       "      <td>Own Home</td>\n",
       "      <td>Debt Consolidation</td>\n",
       "      <td>16325.94</td>\n",
       "      <td>30.3</td>\n",
       "      <td>NaN</td>\n",
       "      <td>7</td>\n",
       "      <td>0</td>\n",
       "      <td>189221</td>\n",
       "      <td>373890.0</td>\n",
       "      <td>0.0</td>\n",
       "      <td>0.0</td>\n",
       "    </tr>\n",
       "    <tr>\n",
       "      <th>4</th>\n",
       "      <td>0004f37b-5859-40f6-98d0-367aa3b3f3f1</td>\n",
       "      <td>f662b062-5fa5-463d-b5c0-4e36d09fcab1</td>\n",
       "      <td>Fully Paid</td>\n",
       "      <td>301818</td>\n",
       "      <td>Short Term</td>\n",
       "      <td>NaN</td>\n",
       "      <td>NaN</td>\n",
       "      <td>NaN</td>\n",
       "      <td>1 year</td>\n",
       "      <td>Own Home</td>\n",
       "      <td>Home Improvements</td>\n",
       "      <td>14770.22</td>\n",
       "      <td>13.6</td>\n",
       "      <td>2.0</td>\n",
       "      <td>12</td>\n",
       "      <td>0</td>\n",
       "      <td>127680</td>\n",
       "      <td>1173370.0</td>\n",
       "      <td>0.0</td>\n",
       "      <td>0.0</td>\n",
       "    </tr>\n",
       "  </tbody>\n",
       "</table>\n",
       "</div>"
      ],
      "text/plain": [
       "                                Loan ID                           Customer ID  \\\n",
       "0  0000757f-a121-41ed-b17b-162e76647c1f  dde79588-12f0-4811-bab0-e2b07f633fcd   \n",
       "1  0000afa6-8902-4f8f-b870-25a8fdad0aeb  e49c1a82-a0f7-45e8-9f46-2f75c43f9fbc   \n",
       "2  00020fb0-6b8a-4b3a-8c72-9c4c847e8cb6  c9decd06-16f7-44c3-b007-8776f2a9233d   \n",
       "3  00045ecd-59e9-4752-ba0d-679ff71692b3  b7bce684-b4b0-4b29-af66-eae316bce573   \n",
       "4  0004f37b-5859-40f6-98d0-367aa3b3f3f1  f662b062-5fa5-463d-b5c0-4e36d09fcab1   \n",
       "\n",
       "   Loan Status  Current Loan Amount        Term  Credit Score Raw  \\\n",
       "0   Fully Paid               258082  Short Term             746.0   \n",
       "1  Charged Off               541486   Long Term               NaN   \n",
       "2   Fully Paid             99999999  Short Term             742.0   \n",
       "3   Fully Paid               260986  Short Term             734.0   \n",
       "4   Fully Paid               301818  Short Term               NaN   \n",
       "\n",
       "   Credit Score  Annual Income Years in current job Home Ownership  \\\n",
       "0         746.0       950475.0              4 years           Rent   \n",
       "1           NaN            NaN              6 years           Rent   \n",
       "2         742.0      1230440.0              3 years  Home Mortgage   \n",
       "3         734.0      1314838.0            10+ years       Own Home   \n",
       "4           NaN            NaN               1 year       Own Home   \n",
       "\n",
       "              Purpose  Monthly Debt  Years of Credit History  \\\n",
       "0  Debt Consolidation       6748.42                     11.5   \n",
       "1       Business Loan      10303.51                     17.6   \n",
       "2  Debt Consolidation      11073.96                     26.8   \n",
       "3  Debt Consolidation      16325.94                     30.3   \n",
       "4   Home Improvements      14770.22                     13.6   \n",
       "\n",
       "   Months since last delinquent  Number of Open Accounts  \\\n",
       "0                           NaN                       12   \n",
       "1                          73.0                        7   \n",
       "2                           NaN                       11   \n",
       "3                           NaN                        7   \n",
       "4                           2.0                       12   \n",
       "\n",
       "   Number of Credit Problems  Current Credit Balance  Maximum Open Credit  \\\n",
       "0                          0                  330429             815782.0   \n",
       "1                          0                  268337             372988.0   \n",
       "2                          0                  168720             499642.0   \n",
       "3                          0                  189221             373890.0   \n",
       "4                          0                  127680            1173370.0   \n",
       "\n",
       "   Bankruptcies  Tax Liens  \n",
       "0           0.0        0.0  \n",
       "1           0.0        0.0  \n",
       "2           0.0        0.0  \n",
       "3           0.0        0.0  \n",
       "4           0.0        0.0  "
      ]
     },
     "execution_count": 2,
     "metadata": {},
     "output_type": "execute_result"
    }
   ],
   "source": [
    "file_path = \"./CreditData.csv\"\n",
    "df = pd.read_csv(file_path, sep=',')\n",
    "\n",
    "df.head()"
   ]
  },
  {
   "cell_type": "markdown",
   "metadata": {},
   "source": [
    "### 2.2 Cleaning and Tidying \n",
    "\n",
    "Now that we have the dataset loaded into Pandas, we can begin to easily manipulate and transform the data. First, we want to clean up the dataset. \n",
    "\n",
    "We can get rid of the `Load ID` and `Customer ID` columns, because they have no usefulness to our analysis. We also will remove the `Credit Score Raw` column as it is redundant with the `Credit Score` column."
   ]
  },
  {
   "cell_type": "code",
   "execution_count": 3,
   "metadata": {
    "collapsed": true
   },
   "outputs": [],
   "source": [
    "df = df.drop(['Loan ID', 'Customer ID', \"Credit Score Raw\"], axis=1)"
   ]
  },
  {
   "cell_type": "markdown",
   "metadata": {},
   "source": [
    "We also notice that the very bottom rows of the data are completely filled with garbage data (`NAN`). We can limit the dataframe to the first 100,000 rows, which are valid, to create a complete, valid dataset."
   ]
  },
  {
   "cell_type": "code",
   "execution_count": 4,
   "metadata": {
    "collapsed": true
   },
   "outputs": [],
   "source": [
    "df = df.iloc[:99999]"
   ]
  },
  {
   "cell_type": "markdown",
   "metadata": {},
   "source": [
    "Aweome! We have now cleaned up our dataset by getting rid of data that isn't useful or invalid. However, we can see that even the first 100,000 rows have many `NaN` values for some of the columns. \n",
    "\n",
    "To better understand where we have missing data, we can count the number of `NaN` fields we have across the various columns. We see here that they are in the `Credit Score`, `Annual Income`, `Years in current job`, `Months since last delinquent`, and `Bankruptcies` columns. "
   ]
  },
  {
   "cell_type": "code",
   "execution_count": 5,
   "metadata": {},
   "outputs": [
    {
     "data": {
      "text/plain": [
       "Loan Status                         0\n",
       "Current Loan Amount                 0\n",
       "Term                                0\n",
       "Credit Score                    19154\n",
       "Annual Income                   19154\n",
       "Years in current job             4222\n",
       "Home Ownership                      0\n",
       "Purpose                             0\n",
       "Monthly Debt                        0\n",
       "Years of Credit History             0\n",
       "Months since last delinquent    53141\n",
       "Number of Open Accounts             0\n",
       "Number of Credit Problems           0\n",
       "Current Credit Balance              0\n",
       "Maximum Open Credit                 2\n",
       "Bankruptcies                      204\n",
       "Tax Liens                          10\n",
       "dtype: int64"
      ]
     },
     "execution_count": 5,
     "metadata": {},
     "output_type": "execute_result"
    }
   ],
   "source": [
    "df.isnull().sum()"
   ]
  },
  {
   "cell_type": "markdown",
   "metadata": {},
   "source": [
    "**Imputation** \n",
    "\n",
    "To explore the data and later make an accurate model, we need to try to account for thse `NaN` values. \n",
    "\n",
    "There are several approaches to handling these `NaN` values. This process is called [imputation](https://en.wikipedia.org/wiki/Imputation_(statistics). For a comprehensive overview, here is a guide from \"The Analysis Factor\" about [Seven Ways to Make up Data: Common Methods to Imputing Missing Data](https://www.theanalysisfactor.com/seven-ways-to-make-up-data-common-methods-to-imputing-missing-data/). \n",
    "\n",
    "Let's examine how we'll handle each column's missing data one by one:\n",
    "\n",
    "- **Credit Score, Annual Income, and Years in Current Job **\n",
    "\n",
    "    We can assume that credit score will be one of the most important features in the model we train, as it is a single number that comprehensively represents the quality of a lender. \n",
    "    \n",
    "    Unfortunately, we can't try a simple solution, such as using the mean credit score, since this would throw off our results – people with characteristics of a risky lender would be given a higher credit score than they deserve, and vice versa for trustworthy lenders. We also can't easily use a hot-deck imputation, since we don't have enough information and history to make accurate subsutition. Therefore, the best course of action is to simply drop the rows with a missing credit score.\n",
    "    \n",
    "    The same logic applies for Annual Income and Years in Current Job. \n",
    "    \n",
    "    \n",
    "- ** Months since last delinquent **\n",
    "\n",
    "    A `NaN` value here simply means that the individual has never defaulted on a debt before. We can replace these `NaN`values with a large value. We will use `720 months`, which is `12 months/year` * `60 years`\n",
    " \n",
    " \n",
    "- ** Bankruptcies ** \n",
    "\n",
    "    Bankruptcies, like credit score, are another feature tha will play a large roal in determining loan approval. These values would be very hard to impute since there is too much history and too many factors involved. Since there are only 204 rows with `NaN` bankruptcies, we can just drop them. \n",
    "    \n",
    "\n",
    "- ** Maximum Open Credit **\n",
    "\n",
    "    There are only two rows missing this fields. We can just drop them. "
   ]
  },
  {
   "cell_type": "code",
   "execution_count": 6,
   "metadata": {},
   "outputs": [
    {
     "data": {
      "text/plain": [
       "Loan Status                     0\n",
       "Current Loan Amount             0\n",
       "Term                            0\n",
       "Credit Score                    0\n",
       "Annual Income                   0\n",
       "Years in current job            0\n",
       "Home Ownership                  0\n",
       "Purpose                         0\n",
       "Monthly Debt                    0\n",
       "Years of Credit History         0\n",
       "Months since last delinquent    0\n",
       "Number of Open Accounts         0\n",
       "Number of Credit Problems       0\n",
       "Current Credit Balance          0\n",
       "Maximum Open Credit             0\n",
       "Bankruptcies                    0\n",
       "Tax Liens                       0\n",
       "dtype: int64"
      ]
     },
     "execution_count": 6,
     "metadata": {},
     "output_type": "execute_result"
    }
   ],
   "source": [
    "# Drop NaN rows for Credit Score, Annual Income, and Maximum Open Credit\n",
    "df = df.dropna(subset=['Credit Score','Annual Income', 'Years in current job', \n",
    "                       'Bankruptcies', 'Maximum Open Credit'])\n",
    "\n",
    "# Set Month since last delinquent to 12 * 60\n",
    "df['Months since last delinquent'].fillna(720, inplace=True)\n",
    "\n",
    "df.isnull().sum()"
   ]
  },
  {
   "cell_type": "markdown",
   "metadata": {},
   "source": [
    "Now we have no `NaN` data! We can see the final size of our datset:"
   ]
  },
  {
   "cell_type": "code",
   "execution_count": 7,
   "metadata": {},
   "outputs": [
    {
     "data": {
      "text/plain": [
       "(77270, 17)"
      ]
     },
     "execution_count": 7,
     "metadata": {},
     "output_type": "execute_result"
    }
   ],
   "source": [
    "df.shape"
   ]
  },
  {
   "cell_type": "markdown",
   "metadata": {},
   "source": [
    "** Years in current job **\n",
    "\n",
    "The `Years in current job` column has the word \"years\" and the symbols \"<\" and \"+\" in the values. "
   ]
  },
  {
   "cell_type": "code",
   "execution_count": 8,
   "metadata": {},
   "outputs": [
    {
     "data": {
      "text/plain": [
       "array(['4 years', '3 years', '10+ years', '2 years', '5 years', '1 year',\n",
       "       '6 years', '< 1 year', '7 years', '8 years', '9 years'], dtype=object)"
      ]
     },
     "execution_count": 8,
     "metadata": {},
     "output_type": "execute_result"
    }
   ],
   "source": [
    "df[\"Years in current job\"].unique()"
   ]
  },
  {
   "cell_type": "markdown",
   "metadata": {},
   "source": [
    "We would like these values to be integers so we can better analyze this column and use it when we train our model. We will set 10+ years to 10 years, and < 1 years to 0 years."
   ]
  },
  {
   "cell_type": "code",
   "execution_count": 9,
   "metadata": {},
   "outputs": [
    {
     "data": {
      "text/html": [
       "<div>\n",
       "<style scoped>\n",
       "    .dataframe tbody tr th:only-of-type {\n",
       "        vertical-align: middle;\n",
       "    }\n",
       "\n",
       "    .dataframe tbody tr th {\n",
       "        vertical-align: top;\n",
       "    }\n",
       "\n",
       "    .dataframe thead th {\n",
       "        text-align: right;\n",
       "    }\n",
       "</style>\n",
       "<table border=\"1\" class=\"dataframe\">\n",
       "  <thead>\n",
       "    <tr style=\"text-align: right;\">\n",
       "      <th></th>\n",
       "      <th>Loan Status</th>\n",
       "      <th>Current Loan Amount</th>\n",
       "      <th>Term</th>\n",
       "      <th>Credit Score</th>\n",
       "      <th>Annual Income</th>\n",
       "      <th>Years in current job</th>\n",
       "      <th>Home Ownership</th>\n",
       "      <th>Purpose</th>\n",
       "      <th>Monthly Debt</th>\n",
       "      <th>Years of Credit History</th>\n",
       "      <th>Months since last delinquent</th>\n",
       "      <th>Number of Open Accounts</th>\n",
       "      <th>Number of Credit Problems</th>\n",
       "      <th>Current Credit Balance</th>\n",
       "      <th>Maximum Open Credit</th>\n",
       "      <th>Bankruptcies</th>\n",
       "      <th>Tax Liens</th>\n",
       "    </tr>\n",
       "  </thead>\n",
       "  <tbody>\n",
       "    <tr>\n",
       "      <th>0</th>\n",
       "      <td>Fully Paid</td>\n",
       "      <td>258082</td>\n",
       "      <td>Short Term</td>\n",
       "      <td>746.0</td>\n",
       "      <td>950475.0</td>\n",
       "      <td>4</td>\n",
       "      <td>Rent</td>\n",
       "      <td>Debt Consolidation</td>\n",
       "      <td>6748.42</td>\n",
       "      <td>11.5</td>\n",
       "      <td>720.0</td>\n",
       "      <td>12</td>\n",
       "      <td>0</td>\n",
       "      <td>330429</td>\n",
       "      <td>815782.0</td>\n",
       "      <td>0.0</td>\n",
       "      <td>0.0</td>\n",
       "    </tr>\n",
       "    <tr>\n",
       "      <th>2</th>\n",
       "      <td>Fully Paid</td>\n",
       "      <td>99999999</td>\n",
       "      <td>Short Term</td>\n",
       "      <td>742.0</td>\n",
       "      <td>1230440.0</td>\n",
       "      <td>3</td>\n",
       "      <td>Home Mortgage</td>\n",
       "      <td>Debt Consolidation</td>\n",
       "      <td>11073.96</td>\n",
       "      <td>26.8</td>\n",
       "      <td>720.0</td>\n",
       "      <td>11</td>\n",
       "      <td>0</td>\n",
       "      <td>168720</td>\n",
       "      <td>499642.0</td>\n",
       "      <td>0.0</td>\n",
       "      <td>0.0</td>\n",
       "    </tr>\n",
       "    <tr>\n",
       "      <th>3</th>\n",
       "      <td>Fully Paid</td>\n",
       "      <td>260986</td>\n",
       "      <td>Short Term</td>\n",
       "      <td>734.0</td>\n",
       "      <td>1314838.0</td>\n",
       "      <td>10</td>\n",
       "      <td>Own Home</td>\n",
       "      <td>Debt Consolidation</td>\n",
       "      <td>16325.94</td>\n",
       "      <td>30.3</td>\n",
       "      <td>720.0</td>\n",
       "      <td>7</td>\n",
       "      <td>0</td>\n",
       "      <td>189221</td>\n",
       "      <td>373890.0</td>\n",
       "      <td>0.0</td>\n",
       "      <td>0.0</td>\n",
       "    </tr>\n",
       "    <tr>\n",
       "      <th>6</th>\n",
       "      <td>Fully Paid</td>\n",
       "      <td>353760</td>\n",
       "      <td>Long Term</td>\n",
       "      <td>692.0</td>\n",
       "      <td>1202985.0</td>\n",
       "      <td>10</td>\n",
       "      <td>Rent</td>\n",
       "      <td>Debt Consolidation</td>\n",
       "      <td>6115.15</td>\n",
       "      <td>13.8</td>\n",
       "      <td>720.0</td>\n",
       "      <td>10</td>\n",
       "      <td>0</td>\n",
       "      <td>173394</td>\n",
       "      <td>300564.0</td>\n",
       "      <td>0.0</td>\n",
       "      <td>0.0</td>\n",
       "    </tr>\n",
       "    <tr>\n",
       "      <th>7</th>\n",
       "      <td>Fully Paid</td>\n",
       "      <td>31526</td>\n",
       "      <td>Short Term</td>\n",
       "      <td>716.0</td>\n",
       "      <td>2065965.0</td>\n",
       "      <td>10</td>\n",
       "      <td>Home Mortgage</td>\n",
       "      <td>Home Improvements</td>\n",
       "      <td>49927.44</td>\n",
       "      <td>15.1</td>\n",
       "      <td>5.0</td>\n",
       "      <td>22</td>\n",
       "      <td>0</td>\n",
       "      <td>526414</td>\n",
       "      <td>1090386.0</td>\n",
       "      <td>0.0</td>\n",
       "      <td>0.0</td>\n",
       "    </tr>\n",
       "  </tbody>\n",
       "</table>\n",
       "</div>"
      ],
      "text/plain": [
       "  Loan Status  Current Loan Amount        Term  Credit Score  Annual Income  \\\n",
       "0  Fully Paid               258082  Short Term         746.0       950475.0   \n",
       "2  Fully Paid             99999999  Short Term         742.0      1230440.0   \n",
       "3  Fully Paid               260986  Short Term         734.0      1314838.0   \n",
       "6  Fully Paid               353760   Long Term         692.0      1202985.0   \n",
       "7  Fully Paid                31526  Short Term         716.0      2065965.0   \n",
       "\n",
       "   Years in current job Home Ownership             Purpose  Monthly Debt  \\\n",
       "0                     4           Rent  Debt Consolidation       6748.42   \n",
       "2                     3  Home Mortgage  Debt Consolidation      11073.96   \n",
       "3                    10       Own Home  Debt Consolidation      16325.94   \n",
       "6                    10           Rent  Debt Consolidation       6115.15   \n",
       "7                    10  Home Mortgage   Home Improvements      49927.44   \n",
       "\n",
       "   Years of Credit History  Months since last delinquent  \\\n",
       "0                     11.5                         720.0   \n",
       "2                     26.8                         720.0   \n",
       "3                     30.3                         720.0   \n",
       "6                     13.8                         720.0   \n",
       "7                     15.1                           5.0   \n",
       "\n",
       "   Number of Open Accounts  Number of Credit Problems  Current Credit Balance  \\\n",
       "0                       12                          0                  330429   \n",
       "2                       11                          0                  168720   \n",
       "3                        7                          0                  189221   \n",
       "6                       10                          0                  173394   \n",
       "7                       22                          0                  526414   \n",
       "\n",
       "   Maximum Open Credit  Bankruptcies  Tax Liens  \n",
       "0             815782.0           0.0        0.0  \n",
       "2             499642.0           0.0        0.0  \n",
       "3             373890.0           0.0        0.0  \n",
       "6             300564.0           0.0        0.0  \n",
       "7            1090386.0           0.0        0.0  "
      ]
     },
     "execution_count": 9,
     "metadata": {},
     "output_type": "execute_result"
    }
   ],
   "source": [
    "def extract_year_number(s):\n",
    "    if \"<\" in s:\n",
    "        return 0\n",
    "    elif \"+\" in s:\n",
    "        return 10\n",
    "    else:\n",
    "        return int(s[0])\n",
    "    \n",
    "df[\"Years in current job\"] = df[\"Years in current job\"].map(extract_year_number)\n",
    "df.head()"
   ]
  },
  {
   "cell_type": "markdown",
   "metadata": {},
   "source": [
    "# 3) Exploratory Data Analysis "
   ]
  },
  {
   "cell_type": "markdown",
   "metadata": {},
   "source": [
    "Before we can start diving into anything too intensive, with almost 100,000 data points, it will help us to draw some visualizations to understand the data and test some hypothesis. We can explore some graphs of various attributes and compare them to default rates. "
   ]
  },
  {
   "cell_type": "markdown",
   "metadata": {},
   "source": [
    "## 3.1 Loan Status\n",
    "\n",
    "First, lets examine the main feature of this entire analysis: Loan Status. The Loan Status is either \"Fully Paid\" or \"Charged Off\". The later means the lender defaulted. We want to be able to predict which category a lender will fall under."
   ]
  },
  {
   "cell_type": "code",
   "execution_count": 10,
   "metadata": {},
   "outputs": [
    {
     "data": {
      "image/png": "[encoded data removed]",
      "text/plain": [
       "<matplotlib.figure.Figure at 0x110400978>"
      ]
     },
     "metadata": {},
     "output_type": "display_data"
    }
   ],
   "source": [
    "loan_status = df[\"Loan Status\"].value_counts()\n",
    "\n",
    "labels = [\"Full Paid\", \"Charged Off\"]\n",
    "colors = [\"lightgreen\", \"skyblue\"]\n",
    "\n",
    "\n",
    "'''\n",
    "Plot Data\n",
    "'''\n",
    "%matplotlib inline\n",
    "\n",
    "fig = plt.figure(num=None, figsize=(16, 40), dpi=80, facecolor='w', edgecolor='k')\n",
    "\n",
    "# Bar Chart\n",
    "ax = fig.add_subplot(5, 2, 1)\n",
    "ax.bar(labels, loan_status)\n",
    "ax.set_title('Loan Status')\n",
    "\n",
    "# Pie chart\n",
    "ax = fig.add_subplot(5, 2, 2)\n",
    "ax.pie(loan_status, labels=labels,colors = colors,\n",
    "        autopct='%1.1f%%', startangle=140)\n",
    "ax.axis('equal')\n",
    "ax.set_title('Loan Status')\n",
    "\n",
    "plt.show()"
   ]
  },
  {
   "cell_type": "markdown",
   "metadata": {},
   "source": [
    "We can see in the pie chart that a significant portion (over 20%) of loans were charged off. We also have a lot more datapoints for fully-paid loans. "
   ]
  },
  {
   "cell_type": "markdown",
   "metadata": {},
   "source": [
    "## 3.2 Data Exploration Methodology\n",
    "\n",
    "To begin looking at correlations, we will define a methodology to visualize how each feature affects loan default rates. \n",
    "\n",
    "Since many of our features are **continuous**, we will want to seperate the features into **bins**. For example, monthly debt is a continous value that can range from \\$0 to multiple hundred thousand dollars. To understand how a continous feature, like monthly debt, affects loan default rates, we will: \n",
    "\n",
    "1. Observe the distribution of the continuous values\n",
    "2. Seperate the values into bins of equal size based on the distribution\n",
    "3. Count and visualize the number of \"Fully Paid\" and \"Charged Off\" loans are in each bin\n",
    "4. Calculate and visualize the % of loans that were \"Fully Paid\" in each bin.  \n",
    "\n",
    "We'll also define two filtered dataframes: one for \"Full Paid\" and one for \"Charged Off\", and resize our plots to a healthy size. "
   ]
  },
  {
   "cell_type": "code",
   "execution_count": 11,
   "metadata": {
    "collapsed": true
   },
   "outputs": [],
   "source": [
    "df_paid = df[df['Loan Status'] == \"Fully Paid\"]\n",
    "df_default = df[df['Loan Status'] == \"Charged Off\"]"
   ]
  },
  {
   "cell_type": "code",
   "execution_count": 12,
   "metadata": {
    "collapsed": true
   },
   "outputs": [],
   "source": [
    "def resize(x=18,y=8): \n",
    "    fig_size = plt.rcParams[\"figure.figsize\"]\n",
    "    fig_size[0] = x\n",
    "    fig_size[1] = y\n",
    "    plt.rcParams[\"figure.figsize\"] = fig_size"
   ]
  },
  {
   "cell_type": "markdown",
   "metadata": {},
   "source": [
    "### 3.2.1 Monthly Debt"
   ]
  },
  {
   "cell_type": "markdown",
   "metadata": {},
   "source": [
    "We will first look at Monthly Debt vs. default rate. Following our methodology defined above, we first look at the distribution (histogram) of monthly debts, which will aid us in creating bins. "
   ]
  },
  {
   "cell_type": "code",
   "execution_count": 13,
   "metadata": {},
   "outputs": [
    {
     "data": {
      "image/png": "[encoded data removed]",
      "text/plain": [
       "<matplotlib.figure.Figure at 0x110400390>"
      ]
     },
     "metadata": {},
     "output_type": "display_data"
    }
   ],
   "source": [
    "resize(x=20, y=5)\n",
    "plt.hist(df[\"Monthly Debt\"], bins=100)\n",
    "plt.show()"
   ]
  },
  {
   "cell_type": "markdown",
   "metadata": {},
   "source": [
    "We observe that most monthly debts lie in the \\$0 - \\$100,000 range. Therefore, let us separate the values into $5000 bins in that range. \n",
    "\n",
    "Below, we also define a generic grouped column grapher that takes in a column name, a min and max value, and a binwidth, and will graph: \n",
    "\n",
    "1. A distribution of the value that stacks \"Fully Paid\" and \"Charged Off\" Loans for each bin\n",
    "\n",
    "2. The percentage of loans that were \"Fully Paid\" out of the total for each bin.\n",
    "\n",
    "We can use this function to analyze other columns later."
   ]
  },
  {
   "cell_type": "code",
   "execution_count": 14,
   "metadata": {},
   "outputs": [
    {
     "data": {
      "image/png": "[encoded data removed]",
      "text/plain": [
       "<matplotlib.figure.Figure at 0x1182fb208>"
      ]
     },
     "metadata": {},
     "output_type": "display_data"
    },
    {
     "data": {
      "image/png": "[encoded data removed]",
      "text/plain": [
       "<matplotlib.figure.Figure at 0x1182eeda0>"
      ]
     },
     "metadata": {},
     "output_type": "display_data"
    }
   ],
   "source": [
    "%matplotlib inline\n",
    "\n",
    "# Define generic grouped column grapher \n",
    "# which we can use for any column\n",
    "def graph_grouped_column(column, min_value, max_value, binwidth):\n",
    "    '''\n",
    "    Plot Loan Status grouped by Monthly Debt\n",
    "    '''\n",
    "    \n",
    "    resize(y=8)\n",
    "    values, bins, patches = plt.hist([df_paid[column],df_default[column]] , \n",
    "             stacked=True, rwidth=0.9, \n",
    "             label=[\"Fully Paid\", \"Charged Off\"],\n",
    "             bins=range(min_value, max_value + binwidth, binwidth))\n",
    "    \n",
    "    plt.title(\"Loan Status (% Fully Paid) - Grouped by {0}\".format(column))\n",
    "    plt.xticks(range(min_value,max_value, binwidth),  rotation='vertical')\n",
    "    plt.legend(prop={'size':20})\n",
    "    plt.show()\n",
    "\n",
    "    '''\n",
    "    Plot % Fully Paid grouped by Monthly Debt\n",
    "    '''\n",
    "    \n",
    "    resize(y=8) \n",
    "    percentages = [paid/total*100 for (paid, total) in zip(*values)]\n",
    "    plt.axhline(y=np.mean(percentages))\n",
    "    width = 0.9 * binwidth\n",
    "    center = (bins[:-1] + bins[1:]) / 2\n",
    "    plt.bar(center, percentages, width=width ,color=\"lightgreen\")\n",
    "    plt.title(\"Loan Status (% Fully Paid) - Grouped by {0}\".format(column))\n",
    "    plt.xticks(bins, rotation='vertical')\n",
    "    plt.show()\n",
    "    \n",
    "# Graph Monthly Debt, in range 0 - 100000, with bins of size 5000\n",
    "graph_grouped_column(\"Monthly Debt\", min_value=0, max_value=100000, \n",
    "                     binwidth=5000)"
   ]
  },
  {
   "cell_type": "markdown",
   "metadata": {},
   "source": [
    "When initially observing the first plot, we see that, across all ranges, that most of the loans are fully paid – no bin has more unpaid than paid loans. We also see that there are many loans in the \\$10,000 - $20,000 range, and this range has the most number of defaults.\n",
    "\n",
    "However, when we look at the second plot, we see that the percentage of paid loans that are paid across ranges is fairly constant, and it is in fact the higher ranges that have a lower than average paid % rate. \n",
    "\n",
    "This indicates that there might be little correlation between monthly debt and whether the loan is paid. "
   ]
  },
  {
   "cell_type": "markdown",
   "metadata": {},
   "source": [
    "### 3.2.2 Credit Score"
   ]
  },
  {
   "cell_type": "markdown",
   "metadata": {},
   "source": [
    "Next, we will look at Credit Score vs. default rate. We again follow the methodology we defined ealier. \n",
    "\n",
    "The distribution (histogram) of credit scores: "
   ]
  },
  {
   "cell_type": "code",
   "execution_count": 15,
   "metadata": {},
   "outputs": [
    {
     "data": {
      "image/png": "[encoded data removed]",
      "text/plain": [
       "<matplotlib.figure.Figure at 0x117c6dd30>"
      ]
     },
     "metadata": {},
     "output_type": "display_data"
    }
   ],
   "source": [
    "resize(x=20, y=5)\n",
    "plt.hist(df[\"Credit Score\"], bins=75)\n",
    "plt.show()"
   ]
  },
  {
   "cell_type": "markdown",
   "metadata": {},
   "source": [
    "It looks like the credit scores in our dataset are relatively high, ranging from 550 to 750, with most in the 700-750 range. Since the range here is smaller than monthly debts and smaller credit scores are probably significant by intuition, we'll use the entire credit score range for our plots."
   ]
  },
  {
   "cell_type": "code",
   "execution_count": 16,
   "metadata": {},
   "outputs": [
    {
     "data": {
      "image/png": "[encoded data removed]",
      "text/plain": [
       "<matplotlib.figure.Figure at 0x117c360f0>"
      ]
     },
     "metadata": {},
     "output_type": "display_data"
    },
    {
     "data": {
      "image/png": "[encoded data removed]",
      "text/plain": [
       "<matplotlib.figure.Figure at 0x11bcd14e0>"
      ]
     },
     "metadata": {},
     "output_type": "display_data"
    }
   ],
   "source": [
    "graph_grouped_column(\"Credit Score\", min_value=500, max_value=800, \n",
    "                     binwidth=20)"
   ]
  },
  {
   "cell_type": "markdown",
   "metadata": {},
   "source": [
    "Most lenders have a credit score in the 720 - 740 range. As expected, there is a positive correlation between credit score and % Fully Paid – higher credit scores have a higher percentage of fully paid loans. \n",
    "\n",
    "This indicates that a credit score is a good indicator of whether someone will default on their loan. Intuitively, this makes sense, since low credit score means that the lender has defaulted or missed payments on other debts in the past."
   ]
  },
  {
   "cell_type": "markdown",
   "metadata": {},
   "source": [
    "### 3.2.3 Annual Income"
   ]
  },
  {
   "cell_type": "markdown",
   "metadata": {},
   "source": [
    "Next, we will look at Annual Income vs. default rate. We again follow the methodology we defined ealier. \n",
    "\n",
    "The distribution (histogram) of credit scores: "
   ]
  },
  {
   "cell_type": "code",
   "execution_count": 17,
   "metadata": {},
   "outputs": [
    {
     "data": {
      "image/png": "[encoded data removed]",
      "text/plain": [
       "<matplotlib.figure.Figure at 0x11b598b70>"
      ]
     },
     "metadata": {},
     "output_type": "display_data"
    }
   ],
   "source": [
    "resize(x=20, y=5)\n",
    "plt.hist(df[\"Annual Income\"], bins=10)\n",
    "plt.show()"
   ]
  },
  {
   "cell_type": "markdown",
   "metadata": {},
   "source": [
    "Looks like most of the income data points are under $2.5 million -- this is still a huge range. Let's dig deeper to get a more accurate range for a majority of the data, if there is one."
   ]
  },
  {
   "cell_type": "code",
   "execution_count": 18,
   "metadata": {},
   "outputs": [
    {
     "data": {
      "image/png": "[encoded data removed]",
      "text/plain": [
       "<matplotlib.figure.Figure at 0x11d74f828>"
      ]
     },
     "metadata": {},
     "output_type": "display_data"
    }
   ],
   "source": [
    "resize(x=20, y=5)\n",
    "plt.hist(df[\"Annual Income\"], range=[0,3000000])\n",
    "plt.show()"
   ]
  },
  {
   "cell_type": "markdown",
   "metadata": {},
   "source": [
    "After plotting the histogram with our own predefined range, we get a deeper look at the frequency distribution of income. We can probably still get some useful data from the higher-income data points, so let's stick to $2.5 million as our range."
   ]
  },
  {
   "cell_type": "code",
   "execution_count": 19,
   "metadata": {},
   "outputs": [
    {
     "data": {
      "image/png": "[encoded data removed]",
      "text/plain": [
       "<matplotlib.figure.Figure at 0x11bca5240>"
      ]
     },
     "metadata": {},
     "output_type": "display_data"
    },
    {
     "data": {
      "image/png": "[encoded data removed]",
      "text/plain": [
       "<matplotlib.figure.Figure at 0x11b5b8cf8>"
      ]
     },
     "metadata": {},
     "output_type": "display_data"
    }
   ],
   "source": [
    "graph_grouped_column(\"Annual Income\", min_value=0, max_value=2500000, \n",
    "                     binwidth=100000)"
   ]
  },
  {
   "cell_type": "markdown",
   "metadata": {},
   "source": [
    "The graphs show that most of the loans were taken out in the income range from \\$500,000 to \\$1,500,000 -- however, just like with monthly debt, the fully-paid percentages are fairly consistent through income groups. There is a small increase in percent as income increases though."
   ]
  },
  {
   "cell_type": "markdown",
   "metadata": {},
   "source": [
    "### 3.2.4 Purpose"
   ]
  },
  {
   "cell_type": "markdown",
   "metadata": {},
   "source": [
    "Next, we will look at Purpose vs. default rate. This one is slightly different, as it is not a continuous value, but rather several categories. \n",
    "\n",
    "We graph the counts of the categories:"
   ]
  },
  {
   "cell_type": "code",
   "execution_count": 20,
   "metadata": {},
   "outputs": [
    {
     "data": {
      "image/png": "[encoded data removed]",
      "text/plain": [
       "<matplotlib.figure.Figure at 0x1182ea630>"
      ]
     },
     "metadata": {},
     "output_type": "display_data"
    }
   ],
   "source": [
    "resize(x=20, y=5)\n",
    "counts = df[\"Purpose\"].value_counts()\n",
    "plt.bar(counts.keys(), counts.values)\n",
    "plt.xticks(rotation='vertical')\n",
    "plt.show()"
   ]
  },
  {
   "cell_type": "markdown",
   "metadata": {},
   "source": [
    "The majority of loans are taken out for debt consolidation. Let's see if the purpose has an effect on paying back the loan. Specifically, let's test the hypothesis of whether debt consolidation loans have a lower payback rate, since they are being taken out to pay other loans the lender has difficulty paying (creating a cycle)."
   ]
  },
  {
   "cell_type": "code",
   "execution_count": 48,
   "metadata": {},
   "outputs": [
    {
     "data": {
      "image/png": "[encoded data removed]",
      "text/plain": [
       "<matplotlib.figure.Figure at 0x11cf590b8>"
      ]
     },
     "metadata": {},
     "output_type": "display_data"
    },
    {
     "data": {
      "text/plain": [
       "array(['Debt Consolidation', 'Home Improvements', 'Other',\n",
       "       'major_purchase', 'Buy House', 'other', 'Take a Trip',\n",
       "       'Medical Bills', 'Business Loan', 'vacation', 'Buy a Car', 'moving',\n",
       "       'small_business', 'Educational Expenses', 'wedding',\n",
       "       'renewable_energy'], dtype=object)"
      ]
     },
     "execution_count": 48,
     "metadata": {},
     "output_type": "execute_result"
    }
   ],
   "source": [
    "values = [df_paid[\"Purpose\"].value_counts(), df[\"Purpose\"].value_counts()]\n",
    "bins = df[\"Purpose\"].unique()\n",
    "\n",
    "'''\n",
    "Plot % Fully Paid grouped by Monthly Debt\n",
    "'''\n",
    "resize(y=8) \n",
    "percentages = [paid/total*100 for (paid, total) in zip(*values)]\n",
    "plt.axhline(y=np.mean(percentages))\n",
    "plt.bar(bins, percentages,color=\"lightgreen\")\n",
    "plt.title(\"Loan Status (% Fully Paid) - Grouped by {0}\".format(column))\n",
    "plt.xticks(bins, rotation='vertical')\n",
    "plt.show()\n",
    "bins"
   ]
  },
  {
   "cell_type": "markdown",
   "metadata": {},
   "source": [
    "Graphing these two (fairly visually unappealing) graphs gives us little insight. It does tell us that our data's Purpose category is not that useful, since an overwhelming majority of the data is in the \"Other\" category. Regarding loans and loan statuses, fully-paid percentages are fairly similar across all purposes with a bit of variation. One (eyeball) outlier does seem to be Educational Expenses, however, with a rate of around 60%, about 10-15% lower than the other purposes. Perhaps student loans (assuming that's what Educational Expenses entail since unfortunately the dataset has no information on it) are less likely to be paid off, which makes sense considering the high cost of higher education."
   ]
  },
  {
   "cell_type": "markdown",
   "metadata": {},
   "source": [
    "# 4) Classification"
   ]
  },
  {
   "cell_type": "markdown",
   "metadata": {},
   "source": [
    "Now the fun stuff! We can attempt to build a classifier on the data to predict, based on all the feature columns, whether a loan will be defaulted on. \n",
    "\n",
    "First, we must **prepare the data the classifier will train and test on**. \n",
    "\n",
    "We will use this [_excellent_ tutorial](https://machinelearningmastery.com/machine-learning-in-python-step-by-step/) from Machine Learning Mastery as a guide to how to build our models. In the tutorial, they train on the IRIS dataset, but the steps are directly applicable here as well. \n",
    "\n",
    "We are building a binary classifier to classify either the loan is **(0) \"Fully Paid\"** or **(1) \"Charged Off\"**. We can replace the text values with the binary values in the dataframe: "
   ]
  },
  {
   "cell_type": "code",
   "execution_count": 21,
   "metadata": {
    "collapsed": true
   },
   "outputs": [],
   "source": [
    "df['Loan Status'].replace('Fully Paid', 0, inplace=True)\n",
    "df['Loan Status'].replace('Charged Off', 1, inplace=True)"
   ]
  },
  {
   "cell_type": "markdown",
   "metadata": {},
   "source": [
    "Next, we have a couple columns that don't have numerical data. For example, `Purpose` has 16 different textual categories, and `Term` is either \"Short Term\" or \"Long Term\". Since we can't use these textual values when training, we can create \"dummies\". \n",
    "\n",
    "By creating dummies, we create a new column for each different value of these category columns. Then, we assign a 1 under the respective category column the value originally had, and a 0 for all other columns. Pandas provides a simple function to do this for us: "
   ]
  },
  {
   "cell_type": "code",
   "execution_count": 22,
   "metadata": {},
   "outputs": [
    {
     "data": {
      "text/html": [
       "<div>\n",
       "<style scoped>\n",
       "    .dataframe tbody tr th:only-of-type {\n",
       "        vertical-align: middle;\n",
       "    }\n",
       "\n",
       "    .dataframe tbody tr th {\n",
       "        vertical-align: top;\n",
       "    }\n",
       "\n",
       "    .dataframe thead th {\n",
       "        text-align: right;\n",
       "    }\n",
       "</style>\n",
       "<table border=\"1\" class=\"dataframe\">\n",
       "  <thead>\n",
       "    <tr style=\"text-align: right;\">\n",
       "      <th></th>\n",
       "      <th>Loan Status</th>\n",
       "      <th>Current Loan Amount</th>\n",
       "      <th>Credit Score</th>\n",
       "      <th>Annual Income</th>\n",
       "      <th>Years in current job</th>\n",
       "      <th>Monthly Debt</th>\n",
       "      <th>Years of Credit History</th>\n",
       "      <th>Months since last delinquent</th>\n",
       "      <th>Number of Open Accounts</th>\n",
       "      <th>Number of Credit Problems</th>\n",
       "      <th>...</th>\n",
       "      <th>Purpose_Medical Bills</th>\n",
       "      <th>Purpose_Other</th>\n",
       "      <th>Purpose_Take a Trip</th>\n",
       "      <th>Purpose_major_purchase</th>\n",
       "      <th>Purpose_moving</th>\n",
       "      <th>Purpose_other</th>\n",
       "      <th>Purpose_renewable_energy</th>\n",
       "      <th>Purpose_small_business</th>\n",
       "      <th>Purpose_vacation</th>\n",
       "      <th>Purpose_wedding</th>\n",
       "    </tr>\n",
       "  </thead>\n",
       "  <tbody>\n",
       "    <tr>\n",
       "      <th>0</th>\n",
       "      <td>0</td>\n",
       "      <td>258082</td>\n",
       "      <td>746.0</td>\n",
       "      <td>950475.0</td>\n",
       "      <td>4</td>\n",
       "      <td>6748.42</td>\n",
       "      <td>11.5</td>\n",
       "      <td>720.0</td>\n",
       "      <td>12</td>\n",
       "      <td>0</td>\n",
       "      <td>...</td>\n",
       "      <td>0</td>\n",
       "      <td>0</td>\n",
       "      <td>0</td>\n",
       "      <td>0</td>\n",
       "      <td>0</td>\n",
       "      <td>0</td>\n",
       "      <td>0</td>\n",
       "      <td>0</td>\n",
       "      <td>0</td>\n",
       "      <td>0</td>\n",
       "    </tr>\n",
       "    <tr>\n",
       "      <th>2</th>\n",
       "      <td>0</td>\n",
       "      <td>99999999</td>\n",
       "      <td>742.0</td>\n",
       "      <td>1230440.0</td>\n",
       "      <td>3</td>\n",
       "      <td>11073.96</td>\n",
       "      <td>26.8</td>\n",
       "      <td>720.0</td>\n",
       "      <td>11</td>\n",
       "      <td>0</td>\n",
       "      <td>...</td>\n",
       "      <td>0</td>\n",
       "      <td>0</td>\n",
       "      <td>0</td>\n",
       "      <td>0</td>\n",
       "      <td>0</td>\n",
       "      <td>0</td>\n",
       "      <td>0</td>\n",
       "      <td>0</td>\n",
       "      <td>0</td>\n",
       "      <td>0</td>\n",
       "    </tr>\n",
       "    <tr>\n",
       "      <th>3</th>\n",
       "      <td>0</td>\n",
       "      <td>260986</td>\n",
       "      <td>734.0</td>\n",
       "      <td>1314838.0</td>\n",
       "      <td>10</td>\n",
       "      <td>16325.94</td>\n",
       "      <td>30.3</td>\n",
       "      <td>720.0</td>\n",
       "      <td>7</td>\n",
       "      <td>0</td>\n",
       "      <td>...</td>\n",
       "      <td>0</td>\n",
       "      <td>0</td>\n",
       "      <td>0</td>\n",
       "      <td>0</td>\n",
       "      <td>0</td>\n",
       "      <td>0</td>\n",
       "      <td>0</td>\n",
       "      <td>0</td>\n",
       "      <td>0</td>\n",
       "      <td>0</td>\n",
       "    </tr>\n",
       "    <tr>\n",
       "      <th>6</th>\n",
       "      <td>0</td>\n",
       "      <td>353760</td>\n",
       "      <td>692.0</td>\n",
       "      <td>1202985.0</td>\n",
       "      <td>10</td>\n",
       "      <td>6115.15</td>\n",
       "      <td>13.8</td>\n",
       "      <td>720.0</td>\n",
       "      <td>10</td>\n",
       "      <td>0</td>\n",
       "      <td>...</td>\n",
       "      <td>0</td>\n",
       "      <td>0</td>\n",
       "      <td>0</td>\n",
       "      <td>0</td>\n",
       "      <td>0</td>\n",
       "      <td>0</td>\n",
       "      <td>0</td>\n",
       "      <td>0</td>\n",
       "      <td>0</td>\n",
       "      <td>0</td>\n",
       "    </tr>\n",
       "    <tr>\n",
       "      <th>7</th>\n",
       "      <td>0</td>\n",
       "      <td>31526</td>\n",
       "      <td>716.0</td>\n",
       "      <td>2065965.0</td>\n",
       "      <td>10</td>\n",
       "      <td>49927.44</td>\n",
       "      <td>15.1</td>\n",
       "      <td>5.0</td>\n",
       "      <td>22</td>\n",
       "      <td>0</td>\n",
       "      <td>...</td>\n",
       "      <td>0</td>\n",
       "      <td>0</td>\n",
       "      <td>0</td>\n",
       "      <td>0</td>\n",
       "      <td>0</td>\n",
       "      <td>0</td>\n",
       "      <td>0</td>\n",
       "      <td>0</td>\n",
       "      <td>0</td>\n",
       "      <td>0</td>\n",
       "    </tr>\n",
       "  </tbody>\n",
       "</table>\n",
       "<p>5 rows × 36 columns</p>\n",
       "</div>"
      ],
      "text/plain": [
       "   Loan Status  Current Loan Amount  Credit Score  Annual Income  \\\n",
       "0            0               258082         746.0       950475.0   \n",
       "2            0             99999999         742.0      1230440.0   \n",
       "3            0               260986         734.0      1314838.0   \n",
       "6            0               353760         692.0      1202985.0   \n",
       "7            0                31526         716.0      2065965.0   \n",
       "\n",
       "   Years in current job  Monthly Debt  Years of Credit History  \\\n",
       "0                     4       6748.42                     11.5   \n",
       "2                     3      11073.96                     26.8   \n",
       "3                    10      16325.94                     30.3   \n",
       "6                    10       6115.15                     13.8   \n",
       "7                    10      49927.44                     15.1   \n",
       "\n",
       "   Months since last delinquent  Number of Open Accounts  \\\n",
       "0                         720.0                       12   \n",
       "2                         720.0                       11   \n",
       "3                         720.0                        7   \n",
       "6                         720.0                       10   \n",
       "7                           5.0                       22   \n",
       "\n",
       "   Number of Credit Problems       ...         Purpose_Medical Bills  \\\n",
       "0                          0       ...                             0   \n",
       "2                          0       ...                             0   \n",
       "3                          0       ...                             0   \n",
       "6                          0       ...                             0   \n",
       "7                          0       ...                             0   \n",
       "\n",
       "   Purpose_Other  Purpose_Take a Trip  Purpose_major_purchase  Purpose_moving  \\\n",
       "0              0                    0                       0               0   \n",
       "2              0                    0                       0               0   \n",
       "3              0                    0                       0               0   \n",
       "6              0                    0                       0               0   \n",
       "7              0                    0                       0               0   \n",
       "\n",
       "   Purpose_other  Purpose_renewable_energy  Purpose_small_business  \\\n",
       "0              0                         0                       0   \n",
       "2              0                         0                       0   \n",
       "3              0                         0                       0   \n",
       "6              0                         0                       0   \n",
       "7              0                         0                       0   \n",
       "\n",
       "   Purpose_vacation  Purpose_wedding  \n",
       "0                 0                0  \n",
       "2                 0                0  \n",
       "3                 0                0  \n",
       "6                 0                0  \n",
       "7                 0                0  \n",
       "\n",
       "[5 rows x 36 columns]"
      ]
     },
     "execution_count": 22,
     "metadata": {},
     "output_type": "execute_result"
    }
   ],
   "source": [
    "data_pd = pd.get_dummies(df)\n",
    "data_pd.head()"
   ]
  },
  {
   "cell_type": "markdown",
   "metadata": {},
   "source": [
    "Now, we can select the first column as the output we want to predict, and the rest of the columns as the features we will use to predict the output. Again, this is a simple operation, to form X and Y: the input and output sets, where each row in X corresponds to the same indexed row in Y. "
   ]
  },
  {
   "cell_type": "code",
   "execution_count": 23,
   "metadata": {
    "collapsed": true
   },
   "outputs": [],
   "source": [
    "features = data_pd.columns.values\n",
    "features = np.delete(features, 0)\n",
    "target = data_pd[\"Loan Status\"]\n",
    "X = data_pd[features]\n",
    "Y = data_pd['Loan Status']"
   ]
  },
  {
   "cell_type": "markdown",
   "metadata": {},
   "source": [
    "After training the model, we will need to know if the model is accurate. Therefore, we need a testing datset of data the model has not seen before to evaluate its accuracy. It's important that we don't use training data to test the model, because the model is already biased to correctly classify the training data. \n",
    "\n",
    "Thefore, we will split the dataset into two datasets. We will randomly select 80% of the data to be the training dataset, and the remaining 20% will be the validation dataset. \n",
    "\n",
    "`sklearn` gives us a simple function to split the data for us: "
   ]
  },
  {
   "cell_type": "code",
   "execution_count": 24,
   "metadata": {},
   "outputs": [
    {
     "data": {
      "text/html": [
       "<div>\n",
       "<style scoped>\n",
       "    .dataframe tbody tr th:only-of-type {\n",
       "        vertical-align: middle;\n",
       "    }\n",
       "\n",
       "    .dataframe tbody tr th {\n",
       "        vertical-align: top;\n",
       "    }\n",
       "\n",
       "    .dataframe thead th {\n",
       "        text-align: right;\n",
       "    }\n",
       "</style>\n",
       "<table border=\"1\" class=\"dataframe\">\n",
       "  <thead>\n",
       "    <tr style=\"text-align: right;\">\n",
       "      <th></th>\n",
       "      <th>Current Loan Amount</th>\n",
       "      <th>Credit Score</th>\n",
       "      <th>Annual Income</th>\n",
       "      <th>Years in current job</th>\n",
       "      <th>Monthly Debt</th>\n",
       "      <th>Years of Credit History</th>\n",
       "      <th>Months since last delinquent</th>\n",
       "      <th>Number of Open Accounts</th>\n",
       "      <th>Number of Credit Problems</th>\n",
       "      <th>Current Credit Balance</th>\n",
       "      <th>...</th>\n",
       "      <th>Purpose_Medical Bills</th>\n",
       "      <th>Purpose_Other</th>\n",
       "      <th>Purpose_Take a Trip</th>\n",
       "      <th>Purpose_major_purchase</th>\n",
       "      <th>Purpose_moving</th>\n",
       "      <th>Purpose_other</th>\n",
       "      <th>Purpose_renewable_energy</th>\n",
       "      <th>Purpose_small_business</th>\n",
       "      <th>Purpose_vacation</th>\n",
       "      <th>Purpose_wedding</th>\n",
       "    </tr>\n",
       "  </thead>\n",
       "  <tbody>\n",
       "    <tr>\n",
       "      <th>79486</th>\n",
       "      <td>286880</td>\n",
       "      <td>747.0</td>\n",
       "      <td>526034.0</td>\n",
       "      <td>10</td>\n",
       "      <td>5966.00</td>\n",
       "      <td>16.5</td>\n",
       "      <td>720.0</td>\n",
       "      <td>5</td>\n",
       "      <td>0</td>\n",
       "      <td>245062</td>\n",
       "      <td>...</td>\n",
       "      <td>0</td>\n",
       "      <td>0</td>\n",
       "      <td>0</td>\n",
       "      <td>0</td>\n",
       "      <td>0</td>\n",
       "      <td>0</td>\n",
       "      <td>0</td>\n",
       "      <td>0</td>\n",
       "      <td>0</td>\n",
       "      <td>0</td>\n",
       "    </tr>\n",
       "    <tr>\n",
       "      <th>76882</th>\n",
       "      <td>401698</td>\n",
       "      <td>695.0</td>\n",
       "      <td>963680.0</td>\n",
       "      <td>6</td>\n",
       "      <td>27223.96</td>\n",
       "      <td>16.5</td>\n",
       "      <td>18.0</td>\n",
       "      <td>10</td>\n",
       "      <td>0</td>\n",
       "      <td>111910</td>\n",
       "      <td>...</td>\n",
       "      <td>0</td>\n",
       "      <td>0</td>\n",
       "      <td>0</td>\n",
       "      <td>0</td>\n",
       "      <td>0</td>\n",
       "      <td>0</td>\n",
       "      <td>0</td>\n",
       "      <td>0</td>\n",
       "      <td>0</td>\n",
       "      <td>0</td>\n",
       "    </tr>\n",
       "    <tr>\n",
       "      <th>27563</th>\n",
       "      <td>615252</td>\n",
       "      <td>709.0</td>\n",
       "      <td>1461252.0</td>\n",
       "      <td>8</td>\n",
       "      <td>17291.52</td>\n",
       "      <td>13.9</td>\n",
       "      <td>63.0</td>\n",
       "      <td>7</td>\n",
       "      <td>0</td>\n",
       "      <td>43776</td>\n",
       "      <td>...</td>\n",
       "      <td>0</td>\n",
       "      <td>0</td>\n",
       "      <td>0</td>\n",
       "      <td>0</td>\n",
       "      <td>0</td>\n",
       "      <td>0</td>\n",
       "      <td>0</td>\n",
       "      <td>0</td>\n",
       "      <td>0</td>\n",
       "      <td>0</td>\n",
       "    </tr>\n",
       "    <tr>\n",
       "      <th>42632</th>\n",
       "      <td>99999999</td>\n",
       "      <td>656.0</td>\n",
       "      <td>1066546.0</td>\n",
       "      <td>10</td>\n",
       "      <td>30663.34</td>\n",
       "      <td>15.5</td>\n",
       "      <td>29.0</td>\n",
       "      <td>9</td>\n",
       "      <td>0</td>\n",
       "      <td>92207</td>\n",
       "      <td>...</td>\n",
       "      <td>0</td>\n",
       "      <td>0</td>\n",
       "      <td>0</td>\n",
       "      <td>0</td>\n",
       "      <td>0</td>\n",
       "      <td>0</td>\n",
       "      <td>0</td>\n",
       "      <td>0</td>\n",
       "      <td>0</td>\n",
       "      <td>0</td>\n",
       "    </tr>\n",
       "    <tr>\n",
       "      <th>89908</th>\n",
       "      <td>613272</td>\n",
       "      <td>745.0</td>\n",
       "      <td>1212561.0</td>\n",
       "      <td>0</td>\n",
       "      <td>22028.22</td>\n",
       "      <td>32.7</td>\n",
       "      <td>18.0</td>\n",
       "      <td>12</td>\n",
       "      <td>0</td>\n",
       "      <td>405536</td>\n",
       "      <td>...</td>\n",
       "      <td>0</td>\n",
       "      <td>0</td>\n",
       "      <td>0</td>\n",
       "      <td>0</td>\n",
       "      <td>0</td>\n",
       "      <td>0</td>\n",
       "      <td>0</td>\n",
       "      <td>0</td>\n",
       "      <td>0</td>\n",
       "      <td>0</td>\n",
       "    </tr>\n",
       "  </tbody>\n",
       "</table>\n",
       "<p>5 rows × 35 columns</p>\n",
       "</div>"
      ],
      "text/plain": [
       "       Current Loan Amount  Credit Score  Annual Income  Years in current job  \\\n",
       "79486               286880         747.0       526034.0                    10   \n",
       "76882               401698         695.0       963680.0                     6   \n",
       "27563               615252         709.0      1461252.0                     8   \n",
       "42632             99999999         656.0      1066546.0                    10   \n",
       "89908               613272         745.0      1212561.0                     0   \n",
       "\n",
       "       Monthly Debt  Years of Credit History  Months since last delinquent  \\\n",
       "79486       5966.00                     16.5                         720.0   \n",
       "76882      27223.96                     16.5                          18.0   \n",
       "27563      17291.52                     13.9                          63.0   \n",
       "42632      30663.34                     15.5                          29.0   \n",
       "89908      22028.22                     32.7                          18.0   \n",
       "\n",
       "       Number of Open Accounts  Number of Credit Problems  \\\n",
       "79486                        5                          0   \n",
       "76882                       10                          0   \n",
       "27563                        7                          0   \n",
       "42632                        9                          0   \n",
       "89908                       12                          0   \n",
       "\n",
       "       Current Credit Balance       ...         Purpose_Medical Bills  \\\n",
       "79486                  245062       ...                             0   \n",
       "76882                  111910       ...                             0   \n",
       "27563                   43776       ...                             0   \n",
       "42632                   92207       ...                             0   \n",
       "89908                  405536       ...                             0   \n",
       "\n",
       "       Purpose_Other  Purpose_Take a Trip  Purpose_major_purchase  \\\n",
       "79486              0                    0                       0   \n",
       "76882              0                    0                       0   \n",
       "27563              0                    0                       0   \n",
       "42632              0                    0                       0   \n",
       "89908              0                    0                       0   \n",
       "\n",
       "       Purpose_moving  Purpose_other  Purpose_renewable_energy  \\\n",
       "79486               0              0                         0   \n",
       "76882               0              0                         0   \n",
       "27563               0              0                         0   \n",
       "42632               0              0                         0   \n",
       "89908               0              0                         0   \n",
       "\n",
       "       Purpose_small_business  Purpose_vacation  Purpose_wedding  \n",
       "79486                       0                 0                0  \n",
       "76882                       0                 0                0  \n",
       "27563                       0                 0                0  \n",
       "42632                       0                 0                0  \n",
       "89908                       0                 0                0  \n",
       "\n",
       "[5 rows x 35 columns]"
      ]
     },
     "execution_count": 24,
     "metadata": {},
     "output_type": "execute_result"
    }
   ],
   "source": [
    "validation_size = 0.20\n",
    "seed = 7\n",
    "sets = model_selection.train_test_split(X, Y, \n",
    "                                        test_size=validation_size, \n",
    "                                        random_state=seed)\n",
    "\n",
    "X_train, X_validation, Y_train, Y_validation = sets\n",
    "\n",
    "X_train.head()"
   ]
  },
  {
   "cell_type": "markdown",
   "metadata": {},
   "source": [
    "Now we will build the models. We will test 5 different algorithms to build our model, and determine which one is the best based on accuracy. \n",
    "\n",
    "The 5 algorithms are: \n",
    "- [Logistic Regression (LR)](https://onlinecourses.science.psu.edu/stat504/node/149)\n",
    "- [Linear Discriminant Analysis (LDA)](http://sebastianraschka.com/Articles/2014_python_lda.html)\n",
    "- [K-Nearest Neighbors (KNN)](https://www.analyticsvidhya.com/blog/2014/10/introduction-k-neighbours-algorithm-clustering/)\n",
    "- [Classification and Regression Trees (CART)](https://machinelearningmastery.com/classification-and-regression-trees-for-machine-learning/)\n",
    "- [Gaussian Naive Bayes (NB)](https://machinelearningmastery.com/naive-bayes-for-machine-learning/)\n",
    "\n",
    "Each of the algorithms above are linked to a more in-depth explanation of them.\n",
    "\n",
    "The first two are simple linear algorithms, while the last three are non-linear. We will soon see which one fares the best. \n",
    "\n",
    "We will proceed to build the 5 models, and use 10 fold cross validation to evaluate each one. \n",
    "\n",
    "Here is an detailed explanation of 10-fold Crossvalidation: https://www.openml.org/a/estimation-procedures/1"
   ]
  },
  {
   "cell_type": "code",
   "execution_count": 25,
   "metadata": {},
   "outputs": [
    {
     "name": "stdout",
     "output_type": "stream",
     "text": [
      "LR: 0.790491 (0.005517)\n",
      "LDA: 0.790427 (0.005498)\n",
      "KNN: 0.754789 (0.006645)\n",
      "CART: 0.733192 (0.006882)\n",
      "NB: 0.353759 (0.006612)\n"
     ]
    }
   ],
   "source": [
    "scoring = 'accuracy'\n",
    "models = []\n",
    "models.append(('LR', LogisticRegression()))\n",
    "models.append(('LDA', LinearDiscriminantAnalysis()))\n",
    "models.append(('KNN', KNeighborsClassifier()))\n",
    "models.append(('CART', DecisionTreeClassifier()))\n",
    "models.append(('NB', GaussianNB()))\n",
    "\n",
    "results = []\n",
    "names = []\n",
    "for name, model in models:\n",
    "    kfold = model_selection.KFold(n_splits=10, random_state=seed)\n",
    "    cv_results = model_selection.cross_val_score(model, X_train, Y_train, cv=kfold, scoring=scoring)\n",
    "    results.append(cv_results)\n",
    "    names.append(name)\n",
    "    msg = \"%s: %f (%f)\" % (name, cv_results.mean(), cv_results.std())\n",
    "    print(msg)"
   ]
  },
  {
   "cell_type": "markdown",
   "metadata": {},
   "source": [
    "It looks like Logistic Regression and Linear Discriminant Analysis peformed the best, and Gaussian Naive Bayes was by far the worse. Since we did 10-fold cross validation, we have several accuracy measures for each algorithm, as it was evaluated 10 times. We can create a box-and-whisker plot to see the spread of accuracy for each algorithm:"
   ]
  },
  {
   "cell_type": "code",
   "execution_count": 26,
   "metadata": {},
   "outputs": [
    {
     "data": {
      "image/png": "[encoded data removed]",
      "text/plain": [
       "<matplotlib.figure.Figure at 0x11bd3bc18>"
      ]
     },
     "metadata": {},
     "output_type": "display_data"
    }
   ],
   "source": [
    "resize(y=10)\n",
    "fig = plt.figure()\n",
    "fig.suptitle('Algorithm Comparison')\n",
    "ax = fig.add_subplot(111)\n",
    "plt.boxplot(results)\n",
    "ax.set_xticklabels(names)\n",
    "plt.show()"
   ]
  },
  {
   "cell_type": "markdown",
   "metadata": {},
   "source": [
    "Let's go ahead and choose LDA as our model of choice, since it had a slightly smaller standard deviation and basically the same performance as LR. We can now determine the accuracy of this model:"
   ]
  },
  {
   "cell_type": "code",
   "execution_count": 27,
   "metadata": {},
   "outputs": [
    {
     "name": "stdout",
     "output_type": "stream",
     "text": [
      "0.789245502782\n",
      "[[12188     3]\n",
      " [ 3254     9]]\n",
      "             precision    recall  f1-score   support\n",
      "\n",
      "          0       0.79      1.00      0.88     12191\n",
      "          1       0.75      0.00      0.01      3263\n",
      "\n",
      "avg / total       0.78      0.79      0.70     15454\n",
      "\n"
     ]
    }
   ],
   "source": [
    "lda = LinearDiscriminantAnalysis()\n",
    "lda.fit(X_train, Y_train)\n",
    "predictions = lda.predict(X_validation)\n",
    "print(accuracy_score(Y_validation, predictions))\n",
    "print(confusion_matrix(Y_validation, predictions))\n",
    "print(classification_report(Y_validation, predictions))"
   ]
  },
  {
   "cell_type": "markdown",
   "metadata": {},
   "source": [
    "We see that the accuracy was 78%! The model was slightly better at predicting \"Fully Paid\" than \"Charged Off\", and these aren't bad results for using a predefined algorithm part of scikit-learn. "
   ]
  },
  {
   "cell_type": "markdown",
   "metadata": {},
   "source": [
    "# 5) Conclusion and Summary"
   ]
  },
  {
   "cell_type": "markdown",
   "metadata": {},
   "source": [
    "This exploration highlighted just the beginnning of an analysis into loan data with Python, Pandas, Numpy, and Scikit-Learn. We were able to visualize various insights, test multiple hypothesis, and eventually train multiple relatively accurate models to predict whether a lender will default on a loan given 16 standard features of a lender, and selected the Linear Discriminant Analysis as the model of choice. \n",
    "\n",
    "To learn more about the technologies used, and specifically about loan default predictions, please visit the following links: \n",
    "\n",
    "- Complete List of Pandas Tutorials: https://pandas.pydata.org/pandas-docs/stable/tutorials.html\n",
    "- A gentle introduction to sklearn: https://machinelearningmastery.com/a-gentle-introduction-to-scikit-learn-a-python-machine-learning-library/\n",
    "- UWashington Lecture on Predicting Loan Defaults: https://www.coursera.org/learn/ml-classification/lecture/ZtvkP/predicting-loan-defaults-with-decision-trees\n",
    "- Winning Algorithm of a \\$10,000 Kaggle Competition about predicing loan defaults (Used Pandas and Scikit-learn as well): https://github.com/songgc/loan-default-prediction\n"
   ]
  }
 ],
 "metadata": {
  "kernelspec": {
   "display_name": "Python 3",
   "language": "python",
   "name": "python3"
  },
  "language_info": {
   "codemirror_mode": {
    "name": "ipython",
    "version": 3
   },
   "file_extension": ".py",
   "mimetype": "text/x-python",
   "name": "python",
   "nbconvert_exporter": "python",
   "pygments_lexer": "ipython3",
   "version": "3.6.2"
  }
 },
 "nbformat": 4,
 "nbformat_minor": 2
}
